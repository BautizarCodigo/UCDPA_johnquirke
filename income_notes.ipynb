{
 "cells": [
  {
   "cell_type": "code",
   "execution_count": 10,
   "metadata": {},
   "outputs": [],
   "source": [
    "from bs4 import BeautifulSoup\n",
    "from urllib.request import urlopen\n",
    "import re"
   ]
  },
  {
   "cell_type": "code",
   "execution_count": 2,
   "metadata": {},
   "outputs": [],
   "source": [
    "html_doc = 'http://house.speakingsame.com/suburbtop.php?sta=wa&cat=Median+household+income&name=Weekly+income'\n",
    "soup = BeautifulSoup(urlopen(html_doc), \"html.parser\")"
   ]
  },
  {
   "cell_type": "code",
   "execution_count": 3,
   "metadata": {},
   "outputs": [],
   "source": [
    "table = soup.find(lambda tag: tag.name == 'table' and tag.has_attr('id') and tag['id'] == \"mainT\")\n",
    "rows = table.findAll(lambda tag: tag.name == 'tr')[42:92]"
   ]
  },
  {
   "cell_type": "code",
   "execution_count": 7,
   "metadata": {},
   "outputs": [],
   "source": [
    "incomes = []\n",
    "for i in rows:\n",
    "    incomes.append(i.get_text())"
   ]
  },
  {
   "cell_type": "code",
   "execution_count": 38,
   "metadata": {},
   "outputs": [
    {
     "data": {
      "text/plain": [
       "['City Beach', '2,576']"
      ]
     },
     "execution_count": 38,
     "metadata": {},
     "output_type": "execute_result"
    }
   ],
   "source": [
    "incomes[0][2:].split(\"$\")"
   ]
  },
  {
   "cell_type": "code",
   "execution_count": 39,
   "metadata": {},
   "outputs": [],
   "source": [
    "re.search(\"10\", incomes[0][2:])"
   ]
  },
  {
   "cell_type": "code",
   "execution_count": 40,
   "metadata": {},
   "outputs": [],
   "source": [
    "txt = \"22Carramar$1,757\""
   ]
  },
  {
   "cell_type": "code",
   "execution_count": 44,
   "metadata": {},
   "outputs": [],
   "source": [
    "txt = txt.split(\"$\")"
   ]
  },
  {
   "cell_type": "code",
   "execution_count": 47,
   "metadata": {},
   "outputs": [],
   "source": [
    "suburb = txt[0]"
   ]
  },
  {
   "cell_type": "code",
   "execution_count": 48,
   "metadata": {},
   "outputs": [
    {
     "data": {
      "text/plain": [
       "'Carramar'"
      ]
     },
     "execution_count": 48,
     "metadata": {},
     "output_type": "execute_result"
    }
   ],
   "source": [
    "re.sub(r'[0-9]+', '', suburb)"
   ]
  },
  {
   "cell_type": "code",
   "execution_count": 49,
   "metadata": {},
   "outputs": [],
   "source": [
    "locations = []\n",
    "income = []"
   ]
  },
  {
   "cell_type": "code",
   "execution_count": 50,
   "metadata": {},
   "outputs": [],
   "source": [
    "for i in rows:\n",
    "    locations.append(i.get_text(\" \")[3:-7].strip())\n",
    "    income.append(i.get_text(\" \")[-5:].replace(',', ''))"
   ]
  },
  {
   "cell_type": "code",
   "execution_count": 56,
   "metadata": {},
   "outputs": [],
   "source": [
    "weekly_incomes = zip(locations,income)"
   ]
  },
  {
   "cell_type": "code",
   "execution_count": 59,
   "metadata": {},
   "outputs": [
    {
     "name": "stdout",
     "output_type": "stream",
     "text": [
      "(('City Beach', '2576'), ('Cottesloe', '2519'), ('Peppermint Grove', '2519'), ('Crawley', '2217'), ('Dalkeith', '2217'), ('Nedlands', '2217'), ('Burns Beach', '2079'), ('Currambine', '2079'), ('Iluka', '2079'), ('Kinross', '2079'), ('Duncraig', '1960'), ('Leederville', '1927'), ('West Leederville', '1927'), ('Darlington', '1923'), ('Canning Vale', '1917'), ('Willetton', '1917'), ('Daglish', '1889'), ('Shenton Park', '1889'), ('Subiaco', '1889'), ('Bull Creek', '1884'), ('Leeming', '1884'), ('Atwell', '1850'), ('Aubin Grove', '1850'), ('Beeliar', '1850'), ('South Lake', '1850'), ('Success', '1850'), ('Yangebup', '1850'), ('Claremont', '1843'), ('Mount Claremont', '1843'), ('Kensington', '1842'), ('South Perth', '1842'), ('East Fremantle', '1838'), ('Applecross', '1832'), ('Ardross', '1832'), ('Brentwood', '1832'), ('Mount Pleasant', '1832'), ('Kingsley', '1820'), ('Woodvale', '1820'), ('Parkerville', '1818'), ('East Perth', '1814'), ('Bateman', '1783'), ('Winthrop', '1783'), ('Brigadoon', '1774'), ('Ellenbrook', '1774'), ('The Vines', '1774'), ('Floreat', '1759'), ('Jolimont', '1759'), ('Wembley', '1759'), ('Banksia Grove', '1757'), ('Carramar', '1757'))\n"
     ]
    }
   ],
   "source": [
    "print(tuple(weekly_incomes))"
   ]
  },
  {
   "cell_type": "code",
   "execution_count": null,
   "metadata": {},
   "outputs": [],
   "source": []
  }
 ],
 "metadata": {
  "kernelspec": {
   "display_name": "Python 3",
   "language": "python",
   "name": "python3"
  },
  "language_info": {
   "codemirror_mode": {
    "name": "ipython",
    "version": 3
   },
   "file_extension": ".py",
   "mimetype": "text/x-python",
   "name": "python",
   "nbconvert_exporter": "python",
   "pygments_lexer": "ipython3",
   "version": "3.8.5"
  }
 },
 "nbformat": 4,
 "nbformat_minor": 4
}
